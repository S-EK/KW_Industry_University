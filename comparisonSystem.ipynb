{
  "nbformat": 4,
  "nbformat_minor": 0,
  "metadata": {
    "colab": {
      "provenance": []
    },
    "kernelspec": {
      "name": "python3",
      "display_name": "Python 3"
    },
    "language_info": {
      "name": "python"
    }
  },
  "cells": [
    {
      "cell_type": "code",
      "source": [
        "!pip install -q -U keras-tuner\n",
        "!pip install git+https://github.com/qubvel/classification_models.git"
      ],
      "metadata": {
        "id": "qUVyFMQTkl5E"
      },
      "execution_count": null,
      "outputs": []
    },
    {
      "cell_type": "code",
      "source": [
        "from google.colab import drive\n",
        "drive.mount('/content/drive')\n",
        "\n",
        "import sys\n",
        "sys.path.append('/content/drive/MyDrive/COMPARISON_SYSTEM/')"
      ],
      "metadata": {
        "id": "DAxyCD-OKRi1"
      },
      "execution_count": null,
      "outputs": []
    },
    {
      "cell_type": "code",
      "source": [
        "# Import Module\n",
        "from vgg16_module import *\n",
        "from resxext_module import *\n",
        "from resnet50_module import *\n",
        "# from 현규_모듈 import *"
      ],
      "metadata": {
        "id": "XrpOh3bMeaWf"
      },
      "execution_count": null,
      "outputs": []
    },
    {
      "cell_type": "code",
      "source": [
        "import os\n",
        "import numpy as np\n",
        "import pandas as pd\n",
        "from tensorflow import keras"
      ],
      "metadata": {
        "id": "NyxDbvkaPMRr"
      },
      "execution_count": null,
      "outputs": []
    },
    {
      "cell_type": "code",
      "source": [
        "from keras.preprocessing.image import ImageDataGenerator\n",
        "from sklearn.model_selection import train_test_split"
      ],
      "metadata": {
        "id": "Q9yVxXWZPSP0"
      },
      "execution_count": null,
      "outputs": []
    },
    {
      "cell_type": "markdown",
      "source": [
        "# **CLASS: Comparison System**"
      ],
      "metadata": {
        "id": "B4CmAPYohLVm"
      }
    },
    {
      "cell_type": "code",
      "source": [
        "class ComparisonSystem:\n",
        "  # 데이터 및 초기값\n",
        "  def __init__(self, X, y, num_class=10, epochs=16, rows=32, cols=32):\n",
        "    self.X = X\n",
        "    self.y = y\n",
        "\n",
        "    self.NUM_CLASS = num_class\n",
        "    self.EPOCHS = epochs\n",
        "\n",
        "    self.BATCH_SIZE = 64\n",
        "    self.RANDOM_SEED = 1023\n",
        "\n",
        "    self.ROWS = rows\n",
        "    self.COLS = cols\n",
        "    self.IMG_DIM = (self.ROWS, self.COLS, 3)\n",
        "\n",
        "\n",
        "  # Data split: Train:Valid:Test = 6:2:2\n",
        "  def dataSplit(self):\n",
        "    self.X = self.X.astype(float)/255\n",
        "\n",
        "    self.X_train, self.X_test, self.y_train, self.y_test = train_test_split(self.X, self.y, test_size=int(len(self.X)*0.4), random_state=RANDOM_SEED)\n",
        "    self.X_valid, self.X_test, self.y_valid, self.y_test = train_test_split(self.X_test, self.y_test, test_size=0.5)\n",
        "\n",
        "  \n",
        "  # Module Class Setting\n",
        "  def setSystem(self):\n",
        "    self.moduleList = []\n",
        "\n",
        "    self.moduleList.append(ModuleVGG16(self.X, self.y, self.NUM_CLASS, self.IMG_DIM, self.BATCH_SIZE, self.EPOCHS, self.RANDOM_SEED))\n",
        "    self.moduleList.append(myResNext(self.X, self.y, self.NUM_CLASS, self.BATCH_SIZE, self.EPOCHS, self.RANDOM_SEED))\n",
        "    self.moduleList.append(modelResnet50(self.X, self.y, self.NUM_CLASS, self.IMG_DIM, self.BATCH_SIZE, self.EPOCHS, self.RANDOM_SEED))\n",
        "    # self.moudleList.append(현규모델)\n",
        "\n",
        "\n",
        "  # Running Module: VGG16 - ResNext - ResNet50 - DenseNet\n",
        "  def runSystem(self):\n",
        "    self.result = []\n",
        "\n",
        "    for md in self.moduleList:\n",
        "      md.preprocessing()\n",
        "      md.inference()\n",
        "      mdResult = md.preditResult()\n",
        "\n",
        "      # Add Running result - ALL MODULE\n",
        "      self.result.extend(mdResult)\n",
        "\n",
        "    return self.result\n",
        "\n",
        "\n",
        "  # Sorting Method\n",
        "  def sortF1(self, e):\n",
        "    return -e['f1']\n",
        "\n",
        "  def sortACC(self, e):\n",
        "    return -e['accuracy']\n",
        "\n",
        "  def sortIT(self, e):\n",
        "    return e['inference_time']\n",
        "\n",
        "\n",
        "  # Sorting Result: F1, Accuracy, Inference Time\n",
        "  def sortResult(self):\n",
        "    self.resultF1 = sorted(self.result, key=self.sortF1)\n",
        "    self.resultACC = sorted(self.result, key=self.sortACC)\n",
        "    self.resultIT = sorted(self.result, key=self.sortIT)\n",
        "\n",
        "\n",
        "  # Getting Best Result\n",
        "  def getResult(self, standard='all', num=0):\n",
        "    if standard == 'all': # default: print F1, ACC, IT\n",
        "      self.bestResult = []\n",
        "      self.bestResult.append(self.resultF1[0])\n",
        "      self.bestResult.append(self.resultACC[0])\n",
        "      self.bestResult.append(self.resultIT[0])\n",
        "\n",
        "      bestdf = pd.DataFrame (self.bestResult)\n",
        "      return bestdf\n",
        "\n",
        "    elif standard == 'f1': # print F1 model\n",
        "      return self.resultF1[num]\n",
        "\n",
        "    elif standard == 'accuracy': # print ACC model\n",
        "      return self.resultACC[num]\n",
        "\n",
        "    elif standard == 'inference time': # print IF model\n",
        "      return self.resultIT[num]\n",
        "\n",
        "\n",
        "  # Get Model what you want\n",
        "  def getModule(self, module, num=0):\n",
        "    if module == 'vgg16':\n",
        "      return self.modueList[0].getModel(num)\n",
        "    elif module == 'resnext':\n",
        "      return self.modueList[1].getModel(num)\n",
        "    elif module == 'resnet':\n",
        "      return self.modueList[2].getModel(num)\n",
        "    # elif moule == 'densenet':\n",
        "    #   return self.modueList[3].getModel(num)"
      ],
      "metadata": {
        "id": "SvrZ7w_WfEcm"
      },
      "execution_count": null,
      "outputs": []
    },
    {
      "cell_type": "markdown",
      "source": [
        "# **CLASS: Image Reszing**\n",
        "- https://koos808.tistory.com/42"
      ],
      "metadata": {
        "id": "MmSAzmEtip-k"
      }
    },
    {
      "cell_type": "code",
      "source": [
        "from PIL import Image\n",
        "import os\n",
        "\n",
        "class ResizeImage:\n",
        "  def __init__(self, raw_path, data_path, rows, cols):\n",
        "    self.raw_path = raw_path # 원본 이미지 경로\n",
        "    self.data_path = data_path # 저장할 이미지 경로\n",
        "\n",
        "    # 원본 이미지 경로 내 폴더들 list\n",
        "    self.token_list = os.listdir(raw_path)\n",
        "\n",
        "    self.ROWS = rows\n",
        "    self.COLS = cols\n",
        "\n",
        "  def resizing(self):\n",
        "    for token in self.token_list:\n",
        "      image_path = self.raw_path + token + '/'\n",
        "      save_path = self.data_path + token + '/'\n",
        "\n",
        "    # 저장할 경로 없으면 생성\n",
        "    if not os.path.exists(save_path):\n",
        "        os.mkdir(save_path)\n",
        "\n",
        "    #원본 이미지 경로의 모든 이미지 list 지정\n",
        "    data_list = os.listdir(image_path)\n",
        "    print(len(data_list))\n",
        "\n",
        "    # 모든 이미지 resize 후 저장하기\n",
        "    for name in data_list:\n",
        "        im = Image.open(image_path + name)\n",
        "\n",
        "        im = im.resize((self.ROWS, self.COLS))\n",
        "\n",
        "        im = im.convert('RGB')\n",
        "        im.save(save_path + name)\n",
        "    print('end ::: ' + token)"
      ],
      "metadata": {
        "id": "v_0_px1siCRs"
      },
      "execution_count": null,
      "outputs": []
    },
    {
      "cell_type": "markdown",
      "source": [
        "# **CLASS: Visualize history**"
      ],
      "metadata": {
        "id": "D6XGHhMEhBLF"
      }
    },
    {
      "cell_type": "code",
      "source": [
        "import matplotlib.pyplot as plt\n",
        "\n",
        "class show_graph:\n",
        "  def __init__(self, history):\n",
        "    self.accuracy = history['history']['accuracy']\n",
        "    self.val_accuracy = history['history']['val_accuracy']\n",
        "    self.loss = history['history']['loss']\n",
        "    self.val_loss = history['history']['val_loss']\n",
        "\n",
        "  def show_accuracy(self):\n",
        "    plt.plot(self.accuracy)\n",
        "    plt.plot(self.val_accuracy)\n",
        "    plt.title('Model accuracy')\n",
        "    plt.xlabel('Epoch')\n",
        "    plt.ylabel('Accuracy')\n",
        "    plt.legend(['Train', 'Valid'], loc='upper left')\n",
        "    plt.show()\n",
        "\n",
        "  def show_loss(self):\n",
        "    plt.plot(self.loss)\n",
        "    plt.plot(self.val_loss)\n",
        "    plt.title('Model loss')\n",
        "    plt.xlabel('Epoch')\n",
        "    plt.ylabel('Loss')\n",
        "    plt.legend(['Train', 'Valid'], loc='upper left')\n",
        "    plt.show()"
      ],
      "metadata": {
        "id": "LINLtMMN9vmo"
      },
      "execution_count": null,
      "outputs": []
    },
    {
      "cell_type": "markdown",
      "source": [
        "# **Use System with CIFAR-10**"
      ],
      "metadata": {
        "id": "ywqfRsb8gWKF"
      }
    },
    {
      "cell_type": "code",
      "source": [
        "from keras.datasets import cifar10\n",
        "\n",
        "if __name__ == '__main__':\n",
        "  (X_train, Y_train), (X_test, Y_test) = cifar10.load_data()\n",
        "  X = np.concatenate((X_train,X_test))\n",
        "  y = np.concatenate((Y_train,Y_test))\n",
        "\n",
        "  cSystem = ComparisonSystem(X, y, num_class=10, epochs=16, rows=32, cols=32)\n",
        "\n",
        "  cSystem.setSystem()\n",
        "  cSystem.runSystem()\n",
        "  \n",
        "  cSystem.sortResult()\n",
        "\n",
        "  all = cSystem.getResult()\n",
        "\n",
        "  print('\\n\\n###------------- ALL --------------###\\n')\n",
        "  print(all)\n",
        "\n",
        "  f1Result = cSystem.getResult('f1')\n",
        "  accResult = cSystem.getResult('accuracy')\n",
        "  itResult = cSystem.getResult('inference time')\n",
        "\n",
        "  print('\\n\\n###------------- F1 --------------###\\n')\n",
        "  print(f1Result)\n",
        "  print('\\n\\n###------------- ACCURACY --------------###\\n')\n",
        "  print(accResult)\n",
        "  print('\\n\\n###------------- INFERENCE TIME --------------###\\n')\n",
        "  print(itResult)\n",
        "\n",
        "  graph = show_graph(f1Result)\n",
        "  graph.show_accuracy()\n",
        "  graph.show_loss()"
      ],
      "metadata": {
        "id": "6KGEj1i9x0cb"
      },
      "execution_count": null,
      "outputs": []
    },
    {
      "cell_type": "markdown",
      "source": [
        "**참고 자료**\n",
        "- https://koos808.tistory.com/42\n"
      ],
      "metadata": {
        "id": "6QCgiKL5hTt0"
      }
    }
  ]
}